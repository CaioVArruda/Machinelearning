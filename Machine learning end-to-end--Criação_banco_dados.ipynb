{
 "cells": [
  {
   "cell_type": "code",
   "execution_count": 1,
   "id": "14fc4c60",
   "metadata": {},
   "outputs": [],
   "source": [
    "# Lib para banco de dados\n",
    "import sqlite3"
   ]
  },
  {
   "cell_type": "code",
   "execution_count": 2,
   "id": "de491870",
   "metadata": {},
   "outputs": [],
   "source": [
    "# Criar banco de dados [Caso exista faz conexao e se conecta no banco]\n",
    "Conexao_Banco = sqlite3.connect('Banco_Dados_API.db')"
   ]
  },
  {
   "cell_type": "code",
   "execution_count": 4,
   "id": "1fe97430",
   "metadata": {},
   "outputs": [],
   "source": [
    "# Apontar para o banco de dados\n",
    "Cursor = Conexao_Banco.cursor()"
   ]
  },
  {
   "cell_type": "code",
   "execution_count": 7,
   "id": "92e8af63",
   "metadata": {},
   "outputs": [
    {
     "ename": "OperationalError",
     "evalue": "table Log_API already exists",
     "output_type": "error",
     "traceback": [
      "\u001b[1;31m---------------------------------------------------------------------------\u001b[0m",
      "\u001b[1;31mOperationalError\u001b[0m                          Traceback (most recent call last)",
      "Input \u001b[1;32mIn [7]\u001b[0m, in \u001b[0;36m<cell line: 13>\u001b[1;34m()\u001b[0m\n\u001b[0;32m      3\u001b[0m Query_Criar_Banco \u001b[38;5;241m=\u001b[39m \u001b[38;5;124m'''\u001b[39m\n\u001b[0;32m      4\u001b[0m \u001b[38;5;124mCREATE TABLE Log_API(\u001b[39m\n\u001b[0;32m      5\u001b[0m \u001b[38;5;124m    id INTEGER NOT NULL PRIMARY KEY AUTOINCREMENT,\u001b[39m\n\u001b[1;32m   (...)\u001b[0m\n\u001b[0;32m     10\u001b[0m \u001b[38;5;124m)\u001b[39m\n\u001b[0;32m     11\u001b[0m \u001b[38;5;124m'''\u001b[39m\n\u001b[0;32m     12\u001b[0m \u001b[38;5;66;03m#Executando Query\u001b[39;00m\n\u001b[1;32m---> 13\u001b[0m \u001b[43mCursor\u001b[49m\u001b[38;5;241;43m.\u001b[39;49m\u001b[43mexecute\u001b[49m\u001b[43m(\u001b[49m\u001b[43m \u001b[49m\u001b[43mQuery_Criar_Banco\u001b[49m\u001b[43m \u001b[49m\u001b[43m)\u001b[49m\n",
      "\u001b[1;31mOperationalError\u001b[0m: table Log_API already exists"
     ]
    }
   ],
   "source": [
    "# Query --> criar um tabela\n",
    "\n",
    "Query_Criar_Banco = '''\n",
    "CREATE TABLE Log_API(\n",
    "    id INTEGER NOT NULL PRIMARY KEY AUTOINCREMENT,\n",
    "    Inputs TEXT,\n",
    "    Inicio TEXT,\n",
    "    Fim TEXT,\n",
    "    Processamento TEXT\n",
    ")\n",
    "'''\n",
    "#Executando Query\n",
    "Cursor.execute( Query_Criar_Banco )"
   ]
  },
  {
   "cell_type": "code",
   "execution_count": 17,
   "id": "82478ab0",
   "metadata": {},
   "outputs": [],
   "source": [
    "# Query --> Inserir informação\n",
    "\n",
    "Query_Inserir = '''\n",
    "\n",
    "    INSERT INTO Log_API( Inputs, Inicio, Fim, Processamento)\n",
    "    VALUES( '25;1;1;0;0;0;0;0;84', '01/01/2000 19:00:01', '01/01/2000 19:00:02', '00:01' )\n",
    "\n",
    "'''\n",
    "\n",
    "# Executando a Query\n",
    "Cursor.execute(Query_Inserir)\n",
    "\n",
    "# Commit\n",
    "Conexao_Banco.commit()"
   ]
  },
  {
   "cell_type": "code",
   "execution_count": 18,
   "id": "fb3b8ba1",
   "metadata": {},
   "outputs": [
    {
     "data": {
      "text/plain": [
       "[(1,\n",
       "  '25;1;1;0;0;0;0;0;84',\n",
       "  '01/01/2000 19:00:01',\n",
       "  '01/01/2000 19:00:02',\n",
       "  '00:01'),\n",
       " (2,\n",
       "  '25;1;1;0;0;0;0;0;84',\n",
       "  '01/01/2000 19:00:01',\n",
       "  '01/01/2000 19:00:02',\n",
       "  '00:01'),\n",
       " (3,\n",
       "  '25;1;1;0;0;0;0;0;84',\n",
       "  '01/01/2000 19:00:01',\n",
       "  '01/01/2000 19:00:02',\n",
       "  '00:01'),\n",
       " (4,\n",
       "  '25;1;1;0;0;0;0;0;84',\n",
       "  '01/01/2000 19:00:01',\n",
       "  '01/01/2000 19:00:02',\n",
       "  '00:01')]"
      ]
     },
     "execution_count": 18,
     "metadata": {},
     "output_type": "execute_result"
    }
   ],
   "source": [
    "Query_Consulta ='''\n",
    "\n",
    "SELECT * FROM Log_API\n",
    "\n",
    "'''\n",
    "\n",
    "Cursor.execute( Query_Consulta ).fetchall()"
   ]
  },
  {
   "cell_type": "code",
   "execution_count": null,
   "id": "58f1c755",
   "metadata": {},
   "outputs": [],
   "source": []
  }
 ],
 "metadata": {
  "kernelspec": {
   "display_name": "Python 3 (ipykernel)",
   "language": "python",
   "name": "python3"
  },
  "language_info": {
   "codemirror_mode": {
    "name": "ipython",
    "version": 3
   },
   "file_extension": ".py",
   "mimetype": "text/x-python",
   "name": "python",
   "nbconvert_exporter": "python",
   "pygments_lexer": "ipython3",
   "version": "3.9.12"
  }
 },
 "nbformat": 4,
 "nbformat_minor": 5
}
