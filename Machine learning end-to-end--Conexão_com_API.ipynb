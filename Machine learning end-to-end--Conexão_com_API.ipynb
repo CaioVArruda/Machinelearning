{
 "cells": [
  {
   "cell_type": "code",
   "execution_count": null,
   "id": "28c1b313",
   "metadata": {
    "collapsed": true
   },
   "outputs": [],
   "source": [
    "# Conexão com a nossa API"
   ]
  },
  {
   "cell_type": "code",
   "execution_count": 2,
   "id": "e3593e1a",
   "metadata": {},
   "outputs": [],
   "source": [
    "# Estabelece conexão\n",
    "import requests"
   ]
  },
  {
   "cell_type": "code",
   "execution_count": 27,
   "id": "37e42002",
   "metadata": {},
   "outputs": [
    {
     "data": {
      "text/plain": [
       "{'Valor_Aluguel': '[1535.72423191]'}"
      ]
     },
     "execution_count": 27,
     "metadata": {},
     "output_type": "execute_result"
    }
   ],
   "source": [
    "# Local da Url\n",
    "Url = 'http://127.0.0.1:5000/API_Preditivo/25;1;1;0;0;0;0;0;84'\n",
    "\n",
    "#Acessar conexão\n",
    "Consulta = requests.get( Url )\n",
    "\n",
    "# Buscar a info\n",
    "Resposta = Consulta.json()\n",
    "\n",
    "# Devolução\n",
    "Resposta"
   ]
  },
  {
   "cell_type": "code",
   "execution_count": null,
   "id": "df730561",
   "metadata": {},
   "outputs": [],
   "source": []
  }
 ],
 "metadata": {
  "kernelspec": {
   "display_name": "Python 3 (ipykernel)",
   "language": "python",
   "name": "python3"
  },
  "language_info": {
   "codemirror_mode": {
    "name": "ipython",
    "version": 3
   },
   "file_extension": ".py",
   "mimetype": "text/x-python",
   "name": "python",
   "nbconvert_exporter": "python",
   "pygments_lexer": "ipython3",
   "version": "3.9.12"
  }
 },
 "nbformat": 4,
 "nbformat_minor": 5
}
